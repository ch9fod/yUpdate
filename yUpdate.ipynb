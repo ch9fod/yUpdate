{
 "cells": [
  {
   "cell_type": "code",
   "execution_count": 1,
   "metadata": {
    "collapsed": true
   },
   "outputs": [],
   "source": [
    "import requests\n",
    "import feedparser\n",
    "import sqlite3\n",
    "from bs4 import BeautifulSoup"
   ]
  },
  {
   "cell_type": "code",
   "execution_count": 2,
   "metadata": {
    "collapsed": true
   },
   "outputs": [],
   "source": [
    "conn = sqlite3.connect('yify.db')\n",
    "cur = conn.cursor()"
   ]
  },
  {
   "cell_type": "code",
   "execution_count": 3,
   "metadata": {
    "collapsed": true
   },
   "outputs": [],
   "source": [
    "URL = \"https://yts.ag/rss\"\n",
    "response = requests.get(URL)\n",
    "with open('yts.xml', 'wb') as file:\n",
    "    file.write(response.content)\n",
    "d = feedparser.parse(r'yts.xml')\n",
    "entries = d['entries']"
   ]
  },
  {
   "cell_type": "code",
   "execution_count": 4,
   "metadata": {},
   "outputs": [
    {
     "name": "stdout",
     "output_type": "stream",
     "text": [
      "For: Blood Orange (2016) [720p] --> Not Found, inserting...\n",
      "For: Blood Orange (2016) [1080p] --> Not Found, inserting...\n",
      "For: Born in China (2016) [720p] --> Not Found, inserting...\n",
      "For: Born in China (2016) [1080p] --> Not Found, inserting...\n",
      "For: Zorba the Greek (1964) [720p] --> Not Found, inserting...\n",
      "For: Zorba the Greek (1964) [1080p] --> Not Found, inserting...\n",
      "For: Rough Night (2017) [720p] --> Not Found, inserting...\n",
      "For: Rough Night (2017) [1080p] --> Not Found, inserting...\n",
      "For: Attack of the Killer Donuts (2016) [720p] --> Not Found, inserting...\n",
      "For: Attack of the Killer Donuts (2016) [1080p] --> Not Found, inserting...\n",
      "For: My Cousin Rachel (2017) [720p] --> Not Found, inserting...\n",
      "For: My Cousin Rachel (2017) [1080p] --> Not Found, inserting...\n",
      "For: Inconceivable (2017) [720p] --> Not Found, inserting...\n",
      "For: Inconceivable (2017) [1080p] --> Not Found, inserting...\n",
      "For: Lady Macbeth (2016) [720p] --> Not Found, inserting...\n",
      "For: Lady Macbeth (2016) [1080p] --> Not Found, inserting...\n",
      "For: Windows (1980) [720p] --> Not Found, inserting...\n",
      "For: Windows (1980) [1080p] --> Not Found, inserting...\n",
      "For: The Recall (2017) [720p] --> Not Found, inserting...\n",
      "For: The Recall (2017) [1080p] --> Not Found, inserting...\n"
     ]
    }
   ],
   "source": [
    "for e in entries:\n",
    "    Name=e['title']\n",
    "    cur.execute('''\n",
    "                SELECT Id FROM Pelis WHERE Name=?\n",
    "                ''',(e['title'],))\n",
    "    all_rows = cur.fetchall()\n",
    "    if(all_rows):\n",
    "        print('For: {} --> Found'.format(e['title']))\n",
    "    else:\n",
    "        print('For: {} --> Not Found, inserting...'.format(e['title']))\n",
    "        s = BeautifulSoup(e['summary'], \"html5lib\")\n",
    "        t = s.get_text()\n",
    "        a = t.find('IMDB')\n",
    "        b = t.find('Genre')\n",
    "        c = t.find('Size')\n",
    "        d = t.find('Runtime')\n",
    "        e = t.find('min')\n",
    "        Desc = s.get_text()[e+3:].replace(\"'\",\"\")\n",
    "        Desc = Desc.replace('\"','')\n",
    "        IMDB = s.get_text()[a+5:b]\n",
    "        Genre = s.get_text()[b+7:c]\n",
    "        Size = s.get_text()[c+6:d]\n",
    "        Runtime = s.get_text()[d+9:e+3]\n",
    "        Url = s.a.attrs['href']        \n",
    "        Img = s.img.attrs['src']\n",
    "        cur.execute('INSERT INTO Pelis(Name,Desc,IMDB,Genre,Size,Runtime,Url,Img) \\\n",
    "                     VALUES(\"{}\",\"{}\",\"{}\",\"{}\",\"{}\",\"{}\",\"{}\",\"{}\")'.\\\n",
    "                    format(Name,Desc,IMDB,Genre,Size,Runtime,Url,Img))         "
   ]
  },
  {
   "cell_type": "code",
   "execution_count": 5,
   "metadata": {
    "collapsed": true
   },
   "outputs": [],
   "source": [
    "conn.commit()\n",
    "if conn:\n",
    "    conn.close()"
   ]
  },
  {
   "cell_type": "code",
   "execution_count": null,
   "metadata": {},
   "outputs": [],
   "source": []
  },
  {
   "cell_type": "code",
   "execution_count": null,
   "metadata": {
    "collapsed": true
   },
   "outputs": [],
   "source": []
  },
  {
   "cell_type": "code",
   "execution_count": null,
   "metadata": {},
   "outputs": [],
   "source": [
    "for e in entries:\n",
    "    cur.execute('''\n",
    "                SELECT Id FROM Pelis WHERE Name=?\n",
    "                ''',(e['title'],))"
   ]
  },
  {
   "cell_type": "code",
   "execution_count": null,
   "metadata": {
    "collapsed": true
   },
   "outputs": [],
   "source": [
    "soup = BeautifulSoup(entries[2]['summary'], \"html5lib\")\n",
    "\n",
    "for link in soup.find_all('a'):\n",
    "    print(link.get('href'))\n",
    "print(soup.get_text())    \n",
    "\n",
    "cur.execute('SELECT Id FROM Pelis WHERE Name = \"{}\"'.format(e['title']))\n",
    "\n",
    "cur.execute(\"\"\"SELECT * FROM Pelis\"\"\")\n",
    "rows = cur.fetchall()\n",
    "for row in rows:\n",
    "    print(row)\n",
    "\n",
    "cur.execute(\"\"\"\n",
    "UPDATE Pelis\n",
    "SET Desc = '<a href=\"https://yts.ag/movie/blood-orange-2016\"><img alt=\"Blood Orange (2016)\" src=\"https://yts.ag/assets/images/movies/blood_orange_2016/medium-cover.jpg\" /></a><br />IMDB Rating: 4.3/10<br />Genre: Thriller<br />Size: 607.93 MB<br />Runtime: 1hr 25 min<br /><br />In a stunning modern Spanish Villa lives Bill (Iggy Pop) an aging, half-blind rock star with his young, very beautiful and sexually promiscuous wife Isabelle (Kacey Barnfield). Into their Ibizan paradise comes Lucas (Ben Lamb), an ex-lover looking for revenge. Lucas wants his inheritance back; he believes she stole it from him, but Isabelle will give him nothing. Bill asks Lucas to stay and to make peace with Isabelle, but really he has another agenda - he has a plan... Meanwhile, Lucas is already torn up inside with the desire for revenge, and when he sees how Isabelle is having one of her flings with David their Spanish ''pool boy'' he sees an opportunity to turn the tables and things spiral dangerously out of control.'\n",
    "WHERE Id=1;\n",
    "\"\"\")\n",
    "\n",
    "cur.execute(\"\"\"\n",
    "CREATE TABLE Pelis(Id INTEGER PRIMARY KEY AUTOINCREMENT, Name TEXT, Desc TEXT, IMDB TEXT, Genre TEXT, Size TEXT, Runtime TEXT, Url TEXT, Img TEXT)\n",
    "\"\"\")\n",
    "\n",
    "cur.execute(\"\"\"\n",
    "INSERT INTO Pelis(Name,Desc) \n",
    "VALUES('Blood Orange (2016) [720p]','<a href=\"https://yts.ag/movie/blood-orange-2016\">')\n",
    "            \"\"\")\n",
    "\n",
    "cur.execute(\"\"\"\n",
    "INSERT INTO Pelis(Name,Desc) \n",
    "VALUES('Born in China (2016) [720p]','<a href=\"https://yts.ag/movie/born-in-china-2016\">')\n",
    "            \"\"\")\n",
    "\n",
    "cur.execute(\"\"\"DROP TABLE Pelis\"\"\")\n",
    "\n",
    "cur.execute(\"\"\"\n",
    "SELECT * FROM Pelis\n",
    "\"\"\")\n",
    "rows = cur.fetchall()\n",
    "for row in rows:\n",
    "    print(row)\n",
    "cur.execute(\"\"\"\n",
    "SELECT * FROM SQLITE_SEQUENCE WHERE name='Pelis'\n",
    "\"\"\")\n",
    "print(cur.fetchone())"
   ]
  }
 ],
 "metadata": {
  "kernelspec": {
   "display_name": "Python 3",
   "language": "python",
   "name": "python3"
  },
  "language_info": {
   "codemirror_mode": {
    "name": "ipython",
    "version": 3
   },
   "file_extension": ".py",
   "mimetype": "text/x-python",
   "name": "python",
   "nbconvert_exporter": "python",
   "pygments_lexer": "ipython3",
   "version": "3.6.2"
  }
 },
 "nbformat": 4,
 "nbformat_minor": 2
}
