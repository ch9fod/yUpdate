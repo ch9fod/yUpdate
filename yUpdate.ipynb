{
 "cells": [
  {
   "cell_type": "code",
   "execution_count": 1,
   "metadata": {
    "collapsed": true
   },
   "outputs": [],
   "source": [
    "import requests\n",
    "import feedparser\n",
    "import sqlite3"
   ]
  },
  {
   "cell_type": "code",
   "execution_count": 2,
   "metadata": {
    "collapsed": true
   },
   "outputs": [],
   "source": [
    "conn = sqlite3.connect('yify.db')\n",
    "cur = conn.cursor()"
   ]
  },
  {
   "cell_type": "code",
   "execution_count": 3,
   "metadata": {
    "collapsed": true
   },
   "outputs": [],
   "source": [
    "URL = \"https://yts.ag/rss\"\n",
    "response = requests.get(URL)\n",
    "with open('yts.xml', 'wb') as file:\n",
    "    file.write(response.content)\n",
    "d = feedparser.parse(r'yts.xml')\n",
    "entries = d['entries']"
   ]
  },
  {
   "cell_type": "code",
   "execution_count": 4,
   "metadata": {},
   "outputs": [
    {
     "name": "stdout",
     "output_type": "stream",
     "text": [
      "For: Blood Orange (2016) [720p] --> Found\n",
      "For: Blood Orange (2016) [1080p] --> Found\n",
      "For: Born in China (2016) [720p] --> Found\n",
      "For: Born in China (2016) [1080p] --> Found\n",
      "For: Zorba the Greek (1964) [720p] --> Found\n",
      "For: Zorba the Greek (1964) [1080p] --> Found\n",
      "For: Rough Night (2017) [720p] --> Found\n",
      "For: Rough Night (2017) [1080p] --> Found\n",
      "For: Attack of the Killer Donuts (2016) [720p] --> Found\n",
      "For: Attack of the Killer Donuts (2016) [1080p] --> Found\n",
      "For: My Cousin Rachel (2017) [720p] --> Found\n",
      "For: My Cousin Rachel (2017) [1080p] --> Found\n",
      "For: Inconceivable (2017) [720p] --> Found\n",
      "For: Inconceivable (2017) [1080p] --> Found\n",
      "For: Lady Macbeth (2016) [720p] --> Found\n",
      "For: Lady Macbeth (2016) [1080p] --> Found\n",
      "For: Windows (1980) [720p] --> Found\n",
      "For: Windows (1980) [1080p] --> Found\n",
      "For: The Recall (2017) [720p] --> Found\n",
      "For: The Recall (2017) [1080p] --> Found\n"
     ]
    }
   ],
   "source": [
    "for e in entries:\n",
    "    cur.execute('SELECT Id FROM Pelis WHERE Name = \"{}\"'.format(e['title']))\n",
    "    all_rows = cur.fetchall()\n",
    "    if(all_rows):\n",
    "        print('For: {} --> Found'.format(e['title']))\n",
    "    else:\n",
    "        print('For: {} --> Not Found, inserting...'.format(e['title']))\n",
    "        cur.execute(\"INSERT INTO Pelis(Name,Desc) VALUES('{}','{}')\".format(e['title'],e['summary'].replace(\"'\", \"''\")))        "
   ]
  },
  {
   "cell_type": "code",
   "execution_count": null,
   "metadata": {
    "collapsed": true
   },
   "outputs": [],
   "source": [
    "conn.commit()\n",
    "if conn:\n",
    "    conn.close()"
   ]
  },
  {
   "cell_type": "code",
   "execution_count": null,
   "metadata": {
    "collapsed": true
   },
   "outputs": [],
   "source": [
    "cur.execute(\"\"\"SELECT * FROM Pelis\"\"\")\n",
    "rows = cur.fetchall()\n",
    "for row in rows:\n",
    "    print(row)\n",
    "\n",
    "cur.execute(\"\"\"\n",
    "UPDATE Pelis\n",
    "SET Desc = '<a href=\"https://yts.ag/movie/blood-orange-2016\"><img alt=\"Blood Orange (2016)\" src=\"https://yts.ag/assets/images/movies/blood_orange_2016/medium-cover.jpg\" /></a><br />IMDB Rating: 4.3/10<br />Genre: Thriller<br />Size: 607.93 MB<br />Runtime: 1hr 25 min<br /><br />In a stunning modern Spanish Villa lives Bill (Iggy Pop) an aging, half-blind rock star with his young, very beautiful and sexually promiscuous wife Isabelle (Kacey Barnfield). Into their Ibizan paradise comes Lucas (Ben Lamb), an ex-lover looking for revenge. Lucas wants his inheritance back; he believes she stole it from him, but Isabelle will give him nothing. Bill asks Lucas to stay and to make peace with Isabelle, but really he has another agenda - he has a plan... Meanwhile, Lucas is already torn up inside with the desire for revenge, and when he sees how Isabelle is having one of her flings with David their Spanish ''pool boy'' he sees an opportunity to turn the tables and things spiral dangerously out of control.'\n",
    "WHERE Id=1;\n",
    "\"\"\")\n",
    "\n",
    "cur.execute(\"\"\"\n",
    "CREATE TABLE Pelis(Id INTEGER PRIMARY KEY AUTOINCREMENT, Name TEXT, Desc TEXT)\n",
    "\"\"\")\n",
    "\n",
    "cur.execute(\"\"\"\n",
    "INSERT INTO Pelis(Name,Desc) \n",
    "VALUES('Blood Orange (2016) [720p]','<a href=\"https://yts.ag/movie/blood-orange-2016\"><img alt=\"Blood Orange (2016)\" src=\"https://yts.ag/assets/images/movies/blood_orange_2016/medium-cover.jpg\" /></a><br />IMDB Rating: 4.3/10<br />Genre: Thriller<br />Size: 607.93 MB<br />Runtime: 1hr 25 min<br /><br />In a stunning modern Spanish Villa lives Bill (Iggy Pop) an aging, half-blind rock star with his young, very beautiful and sexually promiscuous wife Isabelle (Kacey Barnfield). Into their Ibizan paradise comes Lucas (Ben Lamb), an ex-lover looking for revenge. Lucas wants his inheritance back; he believes she stole it from him, but Isabelle will give him nothing. Bill asks Lucas to stay and to make peace with Isabelle, but really he has another agenda - he has a plan... Meanwhile, Lucas is already torn up inside with the desire for revenge, and when he sees how Isabelle is having one of her flings with David their Spanish ''pool boy'' he sees an opportunity to turn the tables and things spiral dangerously out of control.')\n",
    "            \"\"\")\n",
    "\n",
    "cur.execute(\"\"\"\n",
    "INSERT INTO Pelis(Name,Desc) \n",
    "VALUES('Born in China (2016) [720p]','<a href=\"https://yts.ag/movie/born-in-china-2016\"><img alt=\"Born in China (2016)\" src=\"https://yts.ag/assets/images/movies/born_in_china_2016/medium-cover.jpg\" /></a><br />IMDB Rating: 7.3/10<br />Genre: Documentary<br />Size: 587.5 MB<br />Runtime: 1hr 19 min<br /><br />Narrated by John Krasinski (\"13 Hours: The Secret Soldiers of Benghazi,\" NBC''s \"The Office,\" \"Amazon''s \"Jack Ryan\"), Disneynature''s new True Life Adventure film \"Born In China\" takes an epic journey into the wilds of China where few people have ever ventured. Following the stories of three animal families, the film transports audiences to some of the most extreme environments on Earth to witness some of the most intimate moments ever captured in a nature film. A doting panda mother guides her growing baby as she begins to explore and seek independence. A two-year-old golden snub-nosed monkey who feels displaced by his new baby sister joins up with a group of free-spirited outcasts. And a mother snow leopard-an elusive animal rarely caught on camera-faces the very real drama of raising her two cubs in one of the harshest and most unforgiving environments on the planet. Featuring stunning, never-before-seen imagery, the film navigates China''s vast terrain-from the frigid mountains to ...')\n",
    "            \"\"\")\n",
    "\n",
    "cur.execute(\"\"\"DROP TABLE Pelis\"\"\")\n",
    "\n",
    "cur.execute(\"\"\"\n",
    "SELECT * FROM Pelis\n",
    "\"\"\")\n",
    "rows = cur.fetchall()\n",
    "for row in rows:\n",
    "    print(row)\n",
    "cur.execute(\"\"\"\n",
    "SELECT * FROM SQLITE_SEQUENCE WHERE name='Pelis'\n",
    "\"\"\")\n",
    "print(cur.fetchone())"
   ]
  }
 ],
 "metadata": {
  "kernelspec": {
   "display_name": "Python 3",
   "language": "python",
   "name": "python3"
  },
  "language_info": {
   "codemirror_mode": {
    "name": "ipython",
    "version": 3
   },
   "file_extension": ".py",
   "mimetype": "text/x-python",
   "name": "python",
   "nbconvert_exporter": "python",
   "pygments_lexer": "ipython3",
   "version": "3.6.2"
  }
 },
 "nbformat": 4,
 "nbformat_minor": 2
}
